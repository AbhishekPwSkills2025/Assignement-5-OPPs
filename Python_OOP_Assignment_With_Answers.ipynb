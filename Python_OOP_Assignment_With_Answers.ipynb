{
 "cells": [
  {
   "cell_type": "markdown",
   "id": "f50649bc",
   "metadata": {},
   "source": [
    "### # Python OOPs Assignment\n",
    "\n",
    "## Python OOPs Questions\n",
    "\n"
   ]
  },
  {
   "cell_type": "markdown",
   "id": "dbab2c10",
   "metadata": {},
   "source": [
    "### 1. What is Object-Oriented Programming (OOP)?\n",
    "\n",
    "Object-Oriented Programming (OOP) is a programming paradigm based on the concept of 'objects', which can contain data (attributes) and code (methods). It promotes modularity, reusability, and organization of code."
   ]
  },
  {
   "cell_type": "markdown",
   "id": "ed6716e0",
   "metadata": {},
   "source": [
    "### 2. What is a class in OOP?\n",
    "\n",
    "A class is a blueprint for creating objects. It defines a set of attributes and methods that the created objects (instances) will have."
   ]
  },
  {
   "cell_type": "markdown",
   "id": "2d34413a",
   "metadata": {},
   "source": [
    "### 3. What is an object in OOP?\n",
    "\n",
    "An object is an instance of a class. It encapsulates both data and methods that operate on the data."
   ]
  },
  {
   "cell_type": "markdown",
   "id": "8f24ac47",
   "metadata": {},
   "source": [
    "### 4. What is the difference between abstraction and encapsulation?\n",
    "\n",
    "Abstraction hides complexity by showing only essential features, while encapsulation hides the internal state and behavior by restricting access to internal components."
   ]
  },
  {
   "cell_type": "markdown",
   "id": "ca6d7d98",
   "metadata": {},
   "source": [
    "### 5. What are dunder methods in Python?\n",
    "\n",
    "Dunder methods (double underscore methods), like `__init__`, `__str__`, are special methods used to customize class behavior."
   ]
  },
  {
   "cell_type": "markdown",
   "id": "62f47f0e",
   "metadata": {},
   "source": [
    "### 6. Explain the concept of inheritance in OOP.\n",
    "\n",
    "Inheritance allows a class to acquire properties and methods of another class, promoting code reusability."
   ]
  },
  {
   "cell_type": "markdown",
   "id": "3921bdbc",
   "metadata": {},
   "source": [
    "### 7. What is polymorphism in OOP?\n",
    "\n",
    "Polymorphism allows methods to behave differently based on the object calling them. It enables a unified interface for different data types."
   ]
  },
  {
   "cell_type": "markdown",
   "id": "b35625d9",
   "metadata": {},
   "source": [
    "### 8. How is encapsulation achieved in Python?\n",
    "\n",
    "Encapsulation is achieved using private variables (prefixing with `_` or `__`) and providing public methods to access or modify them."
   ]
  },
  {
   "cell_type": "markdown",
   "id": "98d60374",
   "metadata": {},
   "source": [
    "### 9. What is a constructor in Python?\n",
    "\n",
    "A constructor is a special method `__init__` used to initialize objects."
   ]
  },
  {
   "cell_type": "markdown",
   "id": "ea2704e8",
   "metadata": {},
   "source": [
    "### 10. What are class and static methods in Python?\n",
    "\n",
    "Class methods use `@classmethod` and receive `cls` as the first argument. Static methods use `@staticmethod` and don't access class or instance data."
   ]
  },
  {
   "cell_type": "markdown",
   "id": "512e01c2",
   "metadata": {},
   "source": [
    "### 11. What is method overloading in Python?\n",
    "\n",
    "Python doesn't support traditional method overloading. It can be achieved using default arguments or variable-length arguments."
   ]
  },
  {
   "cell_type": "markdown",
   "id": "1ced1702",
   "metadata": {},
   "source": [
    "### 12. What is method overriding in OOP?\n",
    "\n",
    "Method overriding is redefining a superclass method in a subclass to change or extend its behavior."
   ]
  },
  {
   "cell_type": "markdown",
   "id": "6167710a",
   "metadata": {},
   "source": [
    "### 13. What is a property decorator in Python?\n",
    "\n",
    "The `@property` decorator allows a method to be accessed like an attribute, often used for encapsulation."
   ]
  },
  {
   "cell_type": "markdown",
   "id": "c6ba4d10",
   "metadata": {},
   "source": [
    "### 14. Why is polymorphism important in OOP?\n",
    "\n",
    "Polymorphism improves code flexibility and readability by allowing a single interface to work with different types."
   ]
  },
  {
   "cell_type": "markdown",
   "id": "e2b1d7b4",
   "metadata": {},
   "source": [
    "### 15. What is an abstract class in Python?\n",
    "\n",
    "An abstract class cannot be instantiated and often contains abstract methods that must be implemented in derived classes."
   ]
  },
  {
   "cell_type": "markdown",
   "id": "0b8f07cd",
   "metadata": {},
   "source": [
    "### 16. What are the advantages of OOP?\n",
    "\n",
    "OOP promotes modularity, code reusability, scalability, and easier maintenance."
   ]
  },
  {
   "cell_type": "markdown",
   "id": "151e1b1e",
   "metadata": {},
   "source": [
    "### 17. What is the difference between a class variable and an instance variable?\n",
    "\n",
    "Class variables are shared across all instances; instance variables are unique to each object."
   ]
  },
  {
   "cell_type": "markdown",
   "id": "b9bbacb3",
   "metadata": {},
   "source": [
    "### 18. What is multiple inheritance in Python?\n",
    "\n",
    "Multiple inheritance allows a class to inherit from more than one base class."
   ]
  },
  {
   "cell_type": "markdown",
   "id": "340337c9",
   "metadata": {},
   "source": [
    "### 19. Explain the purpose of `__str__` and `__repr__` methods in Python.\n",
    "\n",
    "`__str__` returns a user-friendly string representation, `__repr__` returns an unambiguous string useful for debugging."
   ]
  },
  {
   "cell_type": "markdown",
   "id": "7c969f30",
   "metadata": {},
   "source": [
    "### 20. What is the significance of the `super()` function in Python?\n",
    "\n",
    "`super()` is used to call methods of the superclass, often in constructors to extend functionality."
   ]
  },
  {
   "cell_type": "markdown",
   "id": "c556fbd4",
   "metadata": {},
   "source": [
    "### 21. What is the significance of the `__del__` method in Python?\n",
    "\n",
    "`__del__` is a destructor method called when an object is about to be destroyed."
   ]
  },
  {
   "cell_type": "markdown",
   "id": "6380db77",
   "metadata": {},
   "source": [
    "### 22. What is the difference between `@staticmethod` and `@classmethod` in Python?\n",
    "\n",
    "`@staticmethod` doesn't access class/instance data. `@classmethod` accesses class-level data and is called on the class."
   ]
  },
  {
   "cell_type": "markdown",
   "id": "f1915cba",
   "metadata": {},
   "source": [
    "### 23. How does polymorphism work in Python with inheritance?\n",
    "\n",
    "A subclass can override methods of the parent class, and the overridden method is called based on the object's actual type."
   ]
  },
  {
   "cell_type": "markdown",
   "id": "906230dd",
   "metadata": {},
   "source": [
    "### 24. What is method chaining in Python OOP?\n",
    "\n",
    "Method chaining allows multiple method calls on the same object in a single line by returning `self`."
   ]
  },
  {
   "cell_type": "markdown",
   "id": "466fe223",
   "metadata": {},
   "source": [
    "### 25. What is the purpose of the `__call__` method in Python?\n",
    "\n",
    "`__call__` makes an object callable like a function, allowing function-style invocation of instances."
   ]
  }
 ],
 "metadata": {},
 "nbformat": 4,
 "nbformat_minor": 5
}
